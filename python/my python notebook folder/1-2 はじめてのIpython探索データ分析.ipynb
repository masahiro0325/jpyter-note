{
 "cells": [
  {
   "cell_type": "markdown",
   "metadata": {},
   "source": [
    "# レシピ1-2初めてのIPython探索データ分析"
   ]
  },
  {
   "cell_type": "markdown",
   "metadata": {},
   "source": [
    "Numpy, pandas, matplotlibパッケージをインポートする。\n",
    "\n",
    "matplotlib描写はnotebookのインラインで行うように指示を加える。"
   ]
  },
  {
   "cell_type": "code",
   "execution_count": 15,
   "metadata": {
    "collapsed": false
   },
   "outputs": [],
   "source": [
    "import numpy as np\n",
    "import pandas as pd\n",
    "import matplotlib.pyplot as plt\n",
    "%matplotlib inline"
   ]
  },
  {
   "cell_type": "markdown",
   "metadata": {},
   "source": [
    "次にＣＳＶデータファイルのアドレスを変数urlに割り当てる"
   ]
  },
  {
   "cell_type": "code",
   "execution_count": 16,
   "metadata": {
    "collapsed": true
   },
   "outputs": [],
   "source": [
    "url = \"https://github.com/ipython-books/cookbook-data/raw/master/bikes.csv\""
   ]
  },
  {
   "cell_type": "markdown",
   "metadata": {},
   "source": [
    "pandasにはCSVファイルを読み込むread_csv()関数が用意されている。\n",
    "\n",
    "ここではファイルのＵＲＬを渡すとpandasがワイルを読み込み、構文分析をおこない、DataFrameオブジェクトを返す。\n",
    "\n",
    "日付のデータが正しく解釈されるように、オプションをいくつか指定する。"
   ]
  },
  {
   "cell_type": "code",
   "execution_count": 17,
   "metadata": {
    "collapsed": false
   },
   "outputs": [],
   "source": [
    "df = pd.read_csv(url, index_col='Date', parse_dates=True, dayfirst=True)"
   ]
  },
  {
   "cell_type": "markdown",
   "metadata": {},
   "source": [
    "2次元表データを保持するためのpandasデータ構造であるDataFrameオブジェクトが、変数dfに格納されている。\n",
    "\n",
    "head(n)関数は票の最初のn行を表示する。\n",
    "\n",
    "notebookでは、次の例のようにDataFrameオブジェクトをHTMLの表として表示する。"
   ]
  },
  {
   "cell_type": "code",
   "execution_count": 18,
   "metadata": {
    "collapsed": false
   },
   "outputs": [
    {
     "data": {
      "text/html": [
       "<div>\n",
       "<table border=\"1\" class=\"dataframe\">\n",
       "  <thead>\n",
       "    <tr style=\"text-align: right;\">\n",
       "      <th></th>\n",
       "      <th>Unnamed: 1</th>\n",
       "      <th>Berri1</th>\n",
       "      <th>CSC</th>\n",
       "      <th>Mais1</th>\n",
       "      <th>Mais2</th>\n",
       "      <th>Parc</th>\n",
       "      <th>PierDup</th>\n",
       "      <th>Rachel1</th>\n",
       "      <th>Totem_Laurier</th>\n",
       "    </tr>\n",
       "    <tr>\n",
       "      <th>Date</th>\n",
       "      <th></th>\n",
       "      <th></th>\n",
       "      <th></th>\n",
       "      <th></th>\n",
       "      <th></th>\n",
       "      <th></th>\n",
       "      <th></th>\n",
       "      <th></th>\n",
       "      <th></th>\n",
       "    </tr>\n",
       "  </thead>\n",
       "  <tbody>\n",
       "    <tr>\n",
       "      <th>2013-01-01</th>\n",
       "      <td>00:00</td>\n",
       "      <td>0</td>\n",
       "      <td>0</td>\n",
       "      <td>1</td>\n",
       "      <td>0</td>\n",
       "      <td>6</td>\n",
       "      <td>0</td>\n",
       "      <td>1</td>\n",
       "      <td>0</td>\n",
       "    </tr>\n",
       "    <tr>\n",
       "      <th>2013-01-02</th>\n",
       "      <td>00:00</td>\n",
       "      <td>69</td>\n",
       "      <td>0</td>\n",
       "      <td>13</td>\n",
       "      <td>0</td>\n",
       "      <td>18</td>\n",
       "      <td>0</td>\n",
       "      <td>2</td>\n",
       "      <td>0</td>\n",
       "    </tr>\n",
       "  </tbody>\n",
       "</table>\n",
       "</div>"
      ],
      "text/plain": [
       "           Unnamed: 1  Berri1  CSC  Mais1  Mais2  Parc  PierDup  Rachel1  \\\n",
       "Date                                                                       \n",
       "2013-01-01      00:00       0    0      1      0     6        0        1   \n",
       "2013-01-02      00:00      69    0     13      0    18        0        2   \n",
       "\n",
       "            Totem_Laurier  \n",
       "Date                       \n",
       "2013-01-01              0  \n",
       "2013-01-02              0  "
      ]
     },
     "execution_count": 18,
     "metadata": {},
     "output_type": "execute_result"
    }
   ],
   "source": [
    "df.head(2)"
   ]
  },
  {
   "cell_type": "markdown",
   "metadata": {},
   "source": [
    "describe()メソッドにより、要約統計量を算出する。"
   ]
  },
  {
   "cell_type": "code",
   "execution_count": 19,
   "metadata": {
    "collapsed": false
   },
   "outputs": [
    {
     "data": {
      "text/html": [
       "<div>\n",
       "<table border=\"1\" class=\"dataframe\">\n",
       "  <thead>\n",
       "    <tr style=\"text-align: right;\">\n",
       "      <th></th>\n",
       "      <th>Berri1</th>\n",
       "      <th>CSC</th>\n",
       "      <th>Mais1</th>\n",
       "      <th>Mais2</th>\n",
       "      <th>Parc</th>\n",
       "      <th>PierDup</th>\n",
       "      <th>Rachel1</th>\n",
       "      <th>Totem_Laurier</th>\n",
       "    </tr>\n",
       "  </thead>\n",
       "  <tbody>\n",
       "    <tr>\n",
       "      <th>count</th>\n",
       "      <td>261.000000</td>\n",
       "      <td>261.000000</td>\n",
       "      <td>261.000000</td>\n",
       "      <td>261.000000</td>\n",
       "      <td>261.000000</td>\n",
       "      <td>261.000000</td>\n",
       "      <td>261.000000</td>\n",
       "      <td>261.000000</td>\n",
       "    </tr>\n",
       "    <tr>\n",
       "      <th>mean</th>\n",
       "      <td>2743.390805</td>\n",
       "      <td>1221.858238</td>\n",
       "      <td>1757.590038</td>\n",
       "      <td>3224.130268</td>\n",
       "      <td>1669.425287</td>\n",
       "      <td>1152.885057</td>\n",
       "      <td>3084.425287</td>\n",
       "      <td>1858.793103</td>\n",
       "    </tr>\n",
       "    <tr>\n",
       "      <th>std</th>\n",
       "      <td>2247.957848</td>\n",
       "      <td>1070.037364</td>\n",
       "      <td>1458.793882</td>\n",
       "      <td>2589.514354</td>\n",
       "      <td>1363.738862</td>\n",
       "      <td>1208.848429</td>\n",
       "      <td>2380.255540</td>\n",
       "      <td>1434.899574</td>\n",
       "    </tr>\n",
       "    <tr>\n",
       "      <th>min</th>\n",
       "      <td>0.000000</td>\n",
       "      <td>0.000000</td>\n",
       "      <td>1.000000</td>\n",
       "      <td>0.000000</td>\n",
       "      <td>6.000000</td>\n",
       "      <td>0.000000</td>\n",
       "      <td>0.000000</td>\n",
       "      <td>0.000000</td>\n",
       "    </tr>\n",
       "    <tr>\n",
       "      <th>25%</th>\n",
       "      <td>392.000000</td>\n",
       "      <td>12.000000</td>\n",
       "      <td>236.000000</td>\n",
       "      <td>516.000000</td>\n",
       "      <td>222.000000</td>\n",
       "      <td>12.000000</td>\n",
       "      <td>451.000000</td>\n",
       "      <td>340.000000</td>\n",
       "    </tr>\n",
       "    <tr>\n",
       "      <th>50%</th>\n",
       "      <td>2771.000000</td>\n",
       "      <td>1184.000000</td>\n",
       "      <td>1706.000000</td>\n",
       "      <td>3178.000000</td>\n",
       "      <td>1584.000000</td>\n",
       "      <td>818.000000</td>\n",
       "      <td>3111.000000</td>\n",
       "      <td>2087.000000</td>\n",
       "    </tr>\n",
       "    <tr>\n",
       "      <th>75%</th>\n",
       "      <td>4767.000000</td>\n",
       "      <td>2168.000000</td>\n",
       "      <td>3158.000000</td>\n",
       "      <td>5812.000000</td>\n",
       "      <td>3068.000000</td>\n",
       "      <td>2104.000000</td>\n",
       "      <td>5338.000000</td>\n",
       "      <td>3168.000000</td>\n",
       "    </tr>\n",
       "    <tr>\n",
       "      <th>max</th>\n",
       "      <td>6803.000000</td>\n",
       "      <td>3330.000000</td>\n",
       "      <td>4716.000000</td>\n",
       "      <td>7684.000000</td>\n",
       "      <td>4103.000000</td>\n",
       "      <td>4841.000000</td>\n",
       "      <td>8555.000000</td>\n",
       "      <td>4293.000000</td>\n",
       "    </tr>\n",
       "  </tbody>\n",
       "</table>\n",
       "</div>"
      ],
      "text/plain": [
       "            Berri1          CSC        Mais1        Mais2         Parc  \\\n",
       "count   261.000000   261.000000   261.000000   261.000000   261.000000   \n",
       "mean   2743.390805  1221.858238  1757.590038  3224.130268  1669.425287   \n",
       "std    2247.957848  1070.037364  1458.793882  2589.514354  1363.738862   \n",
       "min       0.000000     0.000000     1.000000     0.000000     6.000000   \n",
       "25%     392.000000    12.000000   236.000000   516.000000   222.000000   \n",
       "50%    2771.000000  1184.000000  1706.000000  3178.000000  1584.000000   \n",
       "75%    4767.000000  2168.000000  3158.000000  5812.000000  3068.000000   \n",
       "max    6803.000000  3330.000000  4716.000000  7684.000000  4103.000000   \n",
       "\n",
       "           PierDup      Rachel1  Totem_Laurier  \n",
       "count   261.000000   261.000000     261.000000  \n",
       "mean   1152.885057  3084.425287    1858.793103  \n",
       "std    1208.848429  2380.255540    1434.899574  \n",
       "min       0.000000     0.000000       0.000000  \n",
       "25%      12.000000   451.000000     340.000000  \n",
       "50%     818.000000  3111.000000    2087.000000  \n",
       "75%    2104.000000  5338.000000    3168.000000  \n",
       "max    4841.000000  8555.000000    4293.000000  "
      ]
     },
     "execution_count": 19,
     "metadata": {},
     "output_type": "execute_result"
    }
   ],
   "source": [
    "df.describe()"
   ]
  },
  {
   "cell_type": "markdown",
   "metadata": {},
   "source": [
    "次にグラフを表示する。\n",
    "\n",
    "2つの道路を選び、日別の自転車走行数をプロットする。\n",
    "\n",
    "最初に2つの列「Berri1」と「PierDup」を選択し、plot()関数を呼ぶ。"
   ]
  },
  {
   "cell_type": "code",
   "execution_count": 22,
   "metadata": {
    "collapsed": false
   },
   "outputs": [
    {
     "data": {
      "image/png": "[encoded data removed]",
      "text/plain": [
       "<matplotlib.figure.Figure at 0x7f68209379e8>"
      ]
     },
     "metadata": {},
     "output_type": "display_data"
    }
   ],
   "source": [
    "df[['Berri1', 'PierDup']].plot(figsize=(8,4),\n",
    "                               style=['-', '--']);"
   ]
  },
  {
   "cell_type": "markdown",
   "metadata": {},
   "source": [
    "次にもう少し高度な分析を行う。\n",
    "\n",
    "路上の自転車走行数を曜日の関数としてみる。\n",
    "\n",
    "pandasを使って曜日を求める。\n",
    "\n",
    "DataFrameオブジェクトの各行索引(index)は日付であるため、索引は曜日など日付関係の属性が含まれる。"
   ]
  },
  {
   "cell_type": "code",
   "execution_count": 23,
   "metadata": {
    "collapsed": false
   },
   "outputs": [
    {
     "data": {
      "text/plain": [
       "array([1, 2, 3, 4, 5, 6, 0, 1, 2, 3, 4, 5, 6, 0, 1, 2, 3, 4, 5, 6, 0, 1, 2,\n",
       "       3, 4, 5, 6, 0, 1, 2, 3, 4, 5, 6, 0, 1, 2, 3, 4, 5, 6, 0, 1, 2, 3, 4,\n",
       "       5, 6, 0, 1, 2, 3, 4, 5, 6, 0, 1, 2, 3, 4, 5, 6, 0, 1, 2, 3, 4, 5, 6,\n",
       "       0, 1, 2, 3, 4, 5, 6, 0, 1, 2, 3, 4, 5, 6, 0, 1, 2, 3, 4, 5, 6, 0, 1,\n",
       "       2, 3, 4, 5, 6, 0, 1, 2, 3, 4, 5, 6, 0, 1, 2, 3, 4, 5, 6, 0, 1, 2, 3,\n",
       "       4, 5, 6, 0, 1, 2, 3, 4, 5, 6, 0, 1, 2, 3, 4, 5, 6, 0, 1, 2, 3, 4, 5,\n",
       "       6, 0, 1, 2, 3, 4, 5, 6, 0, 1, 2, 3, 4, 5, 6, 0, 1, 2, 3, 4, 5, 6, 0,\n",
       "       1, 2, 3, 4, 5, 6, 0, 1, 2, 3, 4, 5, 6, 0, 1, 2, 3, 4, 5, 6, 0, 1, 2,\n",
       "       3, 4, 5, 6, 0, 1, 2, 3, 4, 5, 6, 0, 1, 2, 3, 4, 5, 6, 0, 1, 2, 3, 4,\n",
       "       5, 6, 0, 1, 2, 3, 4, 5, 6, 0, 1, 2, 3, 4, 5, 6, 0, 1, 2, 3, 4, 5, 6,\n",
       "       0, 1, 2, 3, 4, 5, 6, 0, 1, 2, 3, 4, 5, 6, 0, 1, 2, 3, 4, 5, 6, 0, 1,\n",
       "       2, 3, 4, 5, 6, 0, 1, 2], dtype=int32)"
      ]
     },
     "execution_count": 23,
     "metadata": {},
     "output_type": "execute_result"
    }
   ],
   "source": [
    "df.index.weekday"
   ]
  },
  {
   "cell_type": "markdown",
   "metadata": {},
   "source": [
    "曜日の値として0から6の数値よりも(月、火、水…)などの名称を使う方が望ましい。\n",
    "\n",
    "曜日名の配列を作り、df.index.weekdauの値を使って配列要素を取り出す。\n",
    "\n",
    "これより日付索引に付随している曜日の属性を表す整数は曜日の名称に変換される。\n",
    "\n",
    "0は月曜日にそうとうするため、df.index.weekdayの値0は\"Monday\"に変換する。\n",
    "\n",
    "同様に残りの曜日も変換を行い、DataFrameの新しい列Weekdayに設定する"
   ]
  },
  {
   "cell_type": "code",
   "execution_count": 24,
   "metadata": {
    "collapsed": true
   },
   "outputs": [],
   "source": [
    "days = np.array(['Monday', 'Tuesday', 'Wednesday', \n",
    "                 'Thursday', 'Friday', 'Saturday', \n",
    "                 'Sunday'])\n",
    "df['Weekday'] = days[df.index.weekday]"
   ]
  },
  {
   "cell_type": "markdown",
   "metadata": {},
   "source": [
    "自転車の通行量を曜日の関数とするため、表の要素を曜日でまとめる必要がある。\n",
    "\n",
    "groupby()はそのための関数である。まとめてから、合計する"
   ]
  },
  {
   "cell_type": "code",
   "execution_count": 25,
   "metadata": {
    "collapsed": true
   },
   "outputs": [],
   "source": [
    "df_week = df.groupby('Weekday').sum()"
   ]
  },
  {
   "cell_type": "code",
   "execution_count": 26,
   "metadata": {
    "collapsed": false
   },
   "outputs": [
    {
     "data": {
      "text/html": [
       "<div>\n",
       "<table border=\"1\" class=\"dataframe\">\n",
       "  <thead>\n",
       "    <tr style=\"text-align: right;\">\n",
       "      <th></th>\n",
       "      <th>Berri1</th>\n",
       "      <th>CSC</th>\n",
       "      <th>Mais1</th>\n",
       "      <th>Mais2</th>\n",
       "      <th>Parc</th>\n",
       "      <th>PierDup</th>\n",
       "      <th>Rachel1</th>\n",
       "      <th>Totem_Laurier</th>\n",
       "    </tr>\n",
       "    <tr>\n",
       "      <th>Weekday</th>\n",
       "      <th></th>\n",
       "      <th></th>\n",
       "      <th></th>\n",
       "      <th></th>\n",
       "      <th></th>\n",
       "      <th></th>\n",
       "      <th></th>\n",
       "      <th></th>\n",
       "    </tr>\n",
       "  </thead>\n",
       "  <tbody>\n",
       "    <tr>\n",
       "      <th>Friday</th>\n",
       "      <td>105701</td>\n",
       "      <td>44252</td>\n",
       "      <td>71605</td>\n",
       "      <td>127526</td>\n",
       "      <td>64385</td>\n",
       "      <td>36850</td>\n",
       "      <td>118556</td>\n",
       "      <td>71426</td>\n",
       "    </tr>\n",
       "    <tr>\n",
       "      <th>Monday</th>\n",
       "      <td>106826</td>\n",
       "      <td>51646</td>\n",
       "      <td>68087</td>\n",
       "      <td>129982</td>\n",
       "      <td>69767</td>\n",
       "      <td>44500</td>\n",
       "      <td>119211</td>\n",
       "      <td>72883</td>\n",
       "    </tr>\n",
       "    <tr>\n",
       "      <th>Saturday</th>\n",
       "      <td>75754</td>\n",
       "      <td>27226</td>\n",
       "      <td>45947</td>\n",
       "      <td>79743</td>\n",
       "      <td>35544</td>\n",
       "      <td>46149</td>\n",
       "      <td>97143</td>\n",
       "      <td>56438</td>\n",
       "    </tr>\n",
       "    <tr>\n",
       "      <th>Sunday</th>\n",
       "      <td>74873</td>\n",
       "      <td>29181</td>\n",
       "      <td>40812</td>\n",
       "      <td>75746</td>\n",
       "      <td>37620</td>\n",
       "      <td>53812</td>\n",
       "      <td>100735</td>\n",
       "      <td>53798</td>\n",
       "    </tr>\n",
       "    <tr>\n",
       "      <th>Thursday</th>\n",
       "      <td>115193</td>\n",
       "      <td>52340</td>\n",
       "      <td>76273</td>\n",
       "      <td>141424</td>\n",
       "      <td>73668</td>\n",
       "      <td>36349</td>\n",
       "      <td>120684</td>\n",
       "      <td>74540</td>\n",
       "    </tr>\n",
       "    <tr>\n",
       "      <th>Tuesday</th>\n",
       "      <td>117244</td>\n",
       "      <td>54656</td>\n",
       "      <td>76974</td>\n",
       "      <td>141217</td>\n",
       "      <td>74299</td>\n",
       "      <td>40679</td>\n",
       "      <td>123533</td>\n",
       "      <td>76559</td>\n",
       "    </tr>\n",
       "    <tr>\n",
       "      <th>Wednesday</th>\n",
       "      <td>120434</td>\n",
       "      <td>59604</td>\n",
       "      <td>79033</td>\n",
       "      <td>145860</td>\n",
       "      <td>80437</td>\n",
       "      <td>42564</td>\n",
       "      <td>125173</td>\n",
       "      <td>79501</td>\n",
       "    </tr>\n",
       "  </tbody>\n",
       "</table>\n",
       "</div>"
      ],
      "text/plain": [
       "           Berri1    CSC  Mais1   Mais2   Parc  PierDup  Rachel1  \\\n",
       "Weekday                                                            \n",
       "Friday     105701  44252  71605  127526  64385    36850   118556   \n",
       "Monday     106826  51646  68087  129982  69767    44500   119211   \n",
       "Saturday    75754  27226  45947   79743  35544    46149    97143   \n",
       "Sunday      74873  29181  40812   75746  37620    53812   100735   \n",
       "Thursday   115193  52340  76273  141424  73668    36349   120684   \n",
       "Tuesday    117244  54656  76974  141217  74299    40679   123533   \n",
       "Wednesday  120434  59604  79033  145860  80437    42564   125173   \n",
       "\n",
       "           Totem_Laurier  \n",
       "Weekday                   \n",
       "Friday             71426  \n",
       "Monday             72883  \n",
       "Saturday           56438  \n",
       "Sunday             53798  \n",
       "Thursday           74540  \n",
       "Tuesday            76559  \n",
       "Wednesday          79501  "
      ]
     },
     "execution_count": 26,
     "metadata": {},
     "output_type": "execute_result"
    }
   ],
   "source": [
    "df_week"
   ]
  },
  {
   "cell_type": "markdown",
   "metadata": {
    "collapsed": true
   },
   "source": [
    "次にをこのデータをグラフに表示する。\n",
    "\n"
   ]
  }
 ],
 "metadata": {
  "gist": {
   "data": {
    "description": "python/my python notebook folder/Untitled.ipynb",
    "public": false
   },
   "id": ""
  },
  "kernelspec": {
   "display_name": "Python 3",
   "language": "python",
   "name": "python3"
  },
  "language_info": {
   "codemirror_mode": {
    "name": "ipython",
    "version": 3
   },
   "file_extension": ".py",
   "mimetype": "text/x-python",
   "name": "python",
   "nbconvert_exporter": "python",
   "pygments_lexer": "ipython3",
   "version": "3.5.1"
  },
  "latex_envs": {
   "bibliofile": "biblio.bib",
   "cite_by": "apalike",
   "current_citInitial": 1,
   "eqLabelWithNumbers": true,
   "eqNumInitial": 0
  },
  "notify_time": "0"
 },
 "nbformat": 4,
 "nbformat_minor": 0
}
